{
 "cells": [
  {
   "cell_type": "markdown",
   "metadata": {},
   "source": [
    "<h1 style=\"text-align: center;\">RPI Calculations</h1>"
   ]
  },
  {
   "cell_type": "code",
   "execution_count": 6,
   "metadata": {},
   "outputs": [],
   "source": [
    "import pandas as pd"
   ]
  },
  {
   "cell_type": "markdown",
   "metadata": {},
   "source": [
    "## Helper Functions"
   ]
  },
  {
   "cell_type": "code",
   "execution_count": 7,
   "metadata": {},
   "outputs": [],
   "source": [
    "def parse_record(record):\n",
    "    try:\n",
    "        wins, losses = record.split('-')\n",
    "        return int(wins), int(losses)\n",
    "    except Exception:\n",
    "        return 0, 0"
   ]
  },
  {
   "cell_type": "code",
   "execution_count": 8,
   "metadata": {},
   "outputs": [],
   "source": [
    "def calculate_weighted_wp(row):\n",
    "    loc = str(row['Location']).strip().lower()\n",
    "    weight = {'home': 0.7, 'away': 1.3, 'neutral': 1.0}.get(loc, 1.0)\n",
    "    \n",
    "    weighted_wins = row['Wins'] * weight\n",
    "    weighted_losses = row['Losses'] * weight\n",
    "    total_games = weighted_wins + weighted_losses\n",
    "\n",
    "    return weighted_wins / total_games if total_games != 0 else 0"
   ]
  },
  {
   "cell_type": "code",
   "execution_count": 9,
   "metadata": {},
   "outputs": [],
   "source": [
    "def calculate_adjusted_owp(row):\n",
    "    opp_wins, opp_losses = parse_record(row['Opponent_Record'])\n",
    "\n",
    "    # Remove Irvine's impact on opponent record\n",
    "    adj_opp_wins = opp_wins - row['Wins']\n",
    "    adj_opp_losses = opp_losses - row['Losses']\n",
    "    total_adj_games = adj_opp_wins + adj_opp_losses\n",
    "\n",
    "    if total_adj_games <= 0:\n",
    "        return 0\n",
    "    return adj_opp_wins / total_adj_games"
   ]
  },
  {
   "cell_type": "code",
   "execution_count": 10,
   "metadata": {},
   "outputs": [],
   "source": [
    "def calculate_rpi(csv_path):\n",
    "    # Read the schedule file\n",
    "    df = pd.read_csv(csv_path)\n",
    "\n",
    "    # Parse opponent records into numeric columns\n",
    "    df[['Opp_Wins', 'Opp_Losses']] = df['Opponent_Record'].apply(lambda x: pd.Series(parse_record(x)))\n",
    "\n",
    "    # Calculate weighted WP for UC Irvine\n",
    "    df['WP'] = df.apply(calculate_weighted_wp, axis=1)\n",
    "\n",
    "    # Adjust OWP by subtracting UC Irvine's games vs each opponent\n",
    "    df['OWP'] = df.apply(calculate_adjusted_owp, axis=1)\n",
    "\n",
    "    # Average WP and OWP\n",
    "    wp_avg = df['WP'].mean()\n",
    "    owp_avg = df['OWP'].mean()\n",
    "\n",
    "    # Final RPI formula\n",
    "    rpi = 0.25 * wp_avg + 0.75 * owp_avg\n",
    "    return round(rpi, 3)"
   ]
  },
  {
   "cell_type": "markdown",
   "metadata": {},
   "source": [
    "## RPI Calculations"
   ]
  },
  {
   "cell_type": "code",
   "execution_count": 12,
   "metadata": {},
   "outputs": [
    {
     "name": "stdout",
     "output_type": "stream",
     "text": [
      "RPI: 0.583\n"
     ]
    }
   ],
   "source": [
    "#UC Irvine\n",
    "csv_file = \"../Other/files/schedule_simulation/uc_irvine_schedule.csv\"\n",
    "rpi = calculate_rpi(csv_file)\n",
    "print(f\"RPI: {rpi:.3f}\")"
   ]
  },
  {
   "cell_type": "code",
   "execution_count": 13,
   "metadata": {},
   "outputs": [
    {
     "name": "stdout",
     "output_type": "stream",
     "text": [
      "RPI: 0.568\n"
     ]
    }
   ],
   "source": [
    "#Cal Poly\n",
    "csv_file = \"../Other/files/schedule_simulation/cal_poly_schedule.csv\"\n",
    "rpi = calculate_rpi(csv_file)\n",
    "print(f\"RPI: {rpi:.3f}\")"
   ]
  },
  {
   "cell_type": "code",
   "execution_count": 14,
   "metadata": {},
   "outputs": [
    {
     "name": "stdout",
     "output_type": "stream",
     "text": [
      "RPI: 0.523\n"
     ]
    }
   ],
   "source": [
    "#Fullerton\n",
    "csv_file = \"../Other/files/schedule_simulation/fullerton_schedule.csv\"\n",
    "rpi = calculate_rpi(csv_file)\n",
    "print(f\"RPI: {rpi:.3f}\")"
   ]
  },
  {
   "cell_type": "code",
   "execution_count": 15,
   "metadata": {},
   "outputs": [
    {
     "name": "stdout",
     "output_type": "stream",
     "text": [
      "RPI: 0.548\n"
     ]
    }
   ],
   "source": [
    "#Hawaii\n",
    "csv_file = \"../Other/files/schedule_simulation/hawaii_schedule.csv\"\n",
    "rpi = calculate_rpi(csv_file)\n",
    "print(f\"RPI: {rpi:.3f}\")"
   ]
  },
  {
   "cell_type": "code",
   "execution_count": 16,
   "metadata": {},
   "outputs": [
    {
     "name": "stdout",
     "output_type": "stream",
     "text": [
      "RPI: 0.541\n"
     ]
    }
   ],
   "source": [
    "#UCSB\n",
    "csv_file = \"../Other/files/schedule_simulation/ucsb_schedule.csv\"\n",
    "rpi = calculate_rpi(csv_file)\n",
    "print(f\"RPI: {rpi:.3f}\")"
   ]
  },
  {
   "cell_type": "code",
   "execution_count": 17,
   "metadata": {},
   "outputs": [
    {
     "name": "stdout",
     "output_type": "stream",
     "text": [
      "RPI: 0.488\n"
     ]
    }
   ],
   "source": [
    "#UCSD\n",
    "csv_file = \"../Other/files/schedule_simulation/ucsd_schedule.csv\"\n",
    "rpi = calculate_rpi(csv_file)\n",
    "print(f\"RPI: {rpi:.3f}\")"
   ]
  },
  {
   "cell_type": "code",
   "execution_count": 18,
   "metadata": {},
   "outputs": [
    {
     "name": "stdout",
     "output_type": "stream",
     "text": [
      "RPI: 0.495\n"
     ]
    }
   ],
   "source": [
    "#Long Beach\n",
    "csv_file = \"../Other/files/schedule_simulation/long_beach_schedule.csv\"\n",
    "rpi = calculate_rpi(csv_file)\n",
    "print(f\"RPI: {rpi:.3f}\")"
   ]
  },
  {
   "cell_type": "code",
   "execution_count": 19,
   "metadata": {},
   "outputs": [
    {
     "name": "stdout",
     "output_type": "stream",
     "text": [
      "RPI: 0.487\n"
     ]
    }
   ],
   "source": [
    "#CSUN\n",
    "csv_file = \"../Other/files/schedule_simulation/csun_schedule.csv\"\n",
    "rpi = calculate_rpi(csv_file)\n",
    "print(f\"RPI: {rpi:.3f}\")"
   ]
  }
 ],
 "metadata": {
  "kernelspec": {
   "display_name": "base",
   "language": "python",
   "name": "python3"
  },
  "language_info": {
   "codemirror_mode": {
    "name": "ipython",
    "version": 3
   },
   "file_extension": ".py",
   "mimetype": "text/x-python",
   "name": "python",
   "nbconvert_exporter": "python",
   "pygments_lexer": "ipython3",
   "version": "3.10.14"
  }
 },
 "nbformat": 4,
 "nbformat_minor": 2
}
